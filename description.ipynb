{
 "cells": [
  {
   "cell_type": "markdown",
   "metadata": {},
   "source": [
    "# Decrypting Ciphertext Using Markov Chain Monte Carlo\n",
    "\n",
    "------------\n",
    "### Background\n",
    "\n",
    "Diaconis (2008) described an example where a coded message from a state prison was sucessfully decrypted using the statistics of written English combined with a Markov Chain Monte Carlo (MCMC) algorithm. \n",
    "\n",
    "The coded message (the ciphertext) was assumed to be a simple substitution cipher. For these ciphers, each letter of the original message (plaintext) is replaced with a different letter or symbol. For example, if the plaintext alphabet is \"ABC\" and the ciphertext alphabet is \"XYZ\", then the text \"AABBCAA\" is encrypted as \"XXYYZXX\".\n",
    "\n",
    "\n",
    "\n",
    "\n",
    "\n",
    "\n"
   ]
  },
  {
   "cell_type": "markdown",
   "metadata": {},
   "source": [
    "--------\n",
    "### Method (WIP)\n",
    "\n",
    "Markov Chain Monte Carlo (MCMC) methods are widely used to obtain samples from complicated, high-dimensional probability distributions. For the problem of decryption, we seek a bijection $f$ that maps characters in the _code space_ to those in our _regular alphabet_.\n",
    "\n",
    "$$ f:\\{\\text{code space}\\}\\longrightarrow \\{\\text{regular alphabet}\\}$$\n",
    "\n",
    "A common approach is for the cryptanalyst to look at the [frequency distribution](https://en.wikipedia.org/wiki/Frequency_analysis) of letters in the natural language (regular alphabet) and compare that to the frequency distribution of the code space's characters. \n",
    "\n",
    "For our method, we model text as a string of characters from a first-order Markov process. Using the bigram character frequency from a reference text, a first-order transition matrix from character-to-character can be constructed. For example, a transition from 'q' to 'a' might rarely occur compared to going from 'q' to 'u'.\n",
    "\n",
    "We define the _plausibility function_ as a function that takes a mapping $f$, character transition matrix $P$, and returns the likelihood of the decrypted text:\n",
    "\n",
    "$$Pl(f) = \\prod_{i=1}^{n-1}P(f(s_{i}),f(s_{i+1}))$$\n",
    "\n",
    "\n",
    "For an alphabet consisting of $p$ characters, there are $p!$ possible mapping functions (states) - for any practical $p$ this is intractable to search. We assume a uniform distribution on the set of possible mappings $f_{i}$.\n",
    "\n",
    "A time-reversible, ergodic Markov chain can be constructed to ensure a stationary distribution exists and is unique. This is done using a simple, symmetric proposal distribution: two randomly chosen letters are swapped. We include the possibility that a letter is swapped with itself to guarantee the chain is aperiodic.\n",
    "\n",
    "A Bayesian derivation of this set-up is that we are trying to sample from a posterior distribution and find its mode. We can score each sample and take the one with the highest plausibility score to find the best mapping. By Bayes' rule:\n",
    "\n",
    "$$P(f_{i}|ciphertext) = \\frac{P(ciphertext|f_{i})P(f_{i})}{P(ciphertext)}=\\frac{P(ciphertext|f_{i})(1/p!)}{\\sum_{k=1}^{p!}{P(ciphertext|f_{k})P(f_{k})}}=\\frac{P(ciphertext|f_{i})(1/p!)}{(1/p!)\\sum_{k=1}^{p!}{P(ciphertext|f_{k})}}=\\frac{P(ciphertext|f_{i})}{\\sum_{k=1}^{p!}{P(ciphertext|f_{k})}} = \\frac{Pl(f_{i})}{Z}$$\n",
    "\n",
    "\n",
    "The Metropolis-Hastings algorithm will allow us to draw samples from the posterior without having to calculate the normalizing constant $Z$ in the denominator.\n",
    "\n"
   ]
  },
  {
   "cell_type": "markdown",
   "metadata": {},
   "source": [
    "--------\n",
    "### Implementation (WIP)"
   ]
  },
  {
   "cell_type": "markdown",
   "metadata": {},
   "source": [
    "--------\n",
    "# References\n",
    "Diaconis, Persi. \"The markov chain monte carlo revolution.\" Bulletin of the American Mathematical Society 46.2 (2009): 179-205."
   ]
  }
 ],
 "metadata": {
  "anaconda-cloud": {},
  "kernelspec": {
   "display_name": "Python [conda env:Anaconda3]",
   "language": "python",
   "name": "conda-env-Anaconda3-py"
  },
  "language_info": {
   "codemirror_mode": {
    "name": "ipython",
    "version": 3
   },
   "file_extension": ".py",
   "mimetype": "text/x-python",
   "name": "python",
   "nbconvert_exporter": "python",
   "pygments_lexer": "ipython3",
   "version": "3.5.2"
  }
 },
 "nbformat": 4,
 "nbformat_minor": 1
}
