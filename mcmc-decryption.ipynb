{
 "cells": [
  {
   "cell_type": "markdown",
   "metadata": {},
   "source": [
    "# Ciphertext Decryption Using MCMC"
   ]
  },
  {
   "cell_type": "code",
   "execution_count": 1,
   "metadata": {
    "collapsed": true
   },
   "outputs": [],
   "source": [
    "import random\n",
    "import numpy as np\n",
    "import re \n",
    "import copy\n",
    "from collections import Counter\n",
    "import matplotlib.pyplot as plt\n",
    "import seaborn as sns\n",
    "%matplotlib inline"
   ]
  },
  {
   "cell_type": "code",
   "execution_count": 2,
   "metadata": {
    "collapsed": false
   },
   "outputs": [],
   "source": [
    "def encrypt(plaintext,plaintext_alphabet,cipher_alphabet,blacklist={}):\n",
    "    \"\"\"\n",
    "    docs here\n",
    "    \"\"\"\n",
    "    assert set(list(plaintext)).difference(blacklist).issubset(set(list(plaintext_alphabet))),\"Plaintext must only contain characters in Plaintext alphabet\"\n",
    "    assert len(plaintext_alphabet) == len(cipher_alphabet), \"Cipher alphabet must have same number of characters as Plaintext alphabet\"\n",
    "\n",
    "    enc_key = dict(zip(list(plaintext_alphabet),list(cipher_alphabet)))\n",
    "    acc = []\n",
    "    for s in plaintext:\n",
    "        if s in blacklist:\n",
    "            acc += s\n",
    "        else:\n",
    "            acc += [enc_key[s]]\n",
    "    ciphertext = \"\".join(acc)\n",
    "\n",
    "    return {'cipher_alphabet' : cipher_alphabet,\n",
    "            'plaintext_alphabet' : plaintext_alphabet,\n",
    "            'ciphertext' : ciphertext}\n",
    "\n",
    "def decrypt(ciphertext,plaintext_alphabet,cipher_alphabet,blacklist={}):\n",
    "    \"\"\"\n",
    "    docs here\n",
    "    \"\"\"\n",
    "    dec_key = dict(zip(list(cipher_alphabet),list(plaintext_alphabet)))\n",
    "    acc = []\n",
    "    for s in ciphertext:\n",
    "        \n",
    "        if s in blacklist:\n",
    "            acc += [s]\n",
    "        else:\n",
    "            acc += [dec_key[s]]\n",
    "    plaintext = \"\".join(acc)\n",
    "    return {'cipher_alphabet' : cipher_alphabet,\n",
    "            'plaintext_alphabet' : plaintext_alphabet,\n",
    "            'plaintext' : plaintext}"
   ]
  },
  {
   "cell_type": "code",
   "execution_count": 3,
   "metadata": {
    "collapsed": true
   },
   "outputs": [],
   "source": [
    "def process_text(filename,regex_ignore='[^A-Z .]',regularize=True):\n",
    "    char_bigram_counts = Counter()\n",
    "    char_unigram_counts = Counter()\n",
    "\n",
    "    with open(filename,encoding='utf-8') as f:\n",
    "        cnt = 0\n",
    "        for line in f:\n",
    "            cnt += 1\n",
    "            if cnt % 5000 == 0: print(\"{0} lines read.\".format(cnt))\n",
    "            if regex_ignore != None:\n",
    "                pattern = re.compile(regex_ignore)\n",
    "                s = pattern.sub('',line.upper())\n",
    "            else:\n",
    "                s = line.upper()\n",
    "\n",
    "            line_length = len(s)\n",
    "\n",
    "            if line_length > 0:\n",
    "                for i in range(line_length-1):\n",
    "                    char_bigram_counts[(s[i],s[i+1])] +=1\n",
    "                    char_unigram_counts[s[i]] += 1\n",
    "\n",
    "                # Add last character in line\t\n",
    "                char_unigram_counts[s[line_length-1]] += 1 \n",
    "                \n",
    "    # Map each unique character from text to an index and vice-versa\n",
    "    i_c_map = dict(enumerate([q[0] for q in sorted(list(char_unigram_counts.items()),key=lambda x: x[0])]))\n",
    "    c_i_map = {v: k for k, v in i_c_map.items()}\n",
    "\n",
    "    # Create first-order transition matrix\n",
    "    n = len(c_i_map)\n",
    "    M = np.zeros((n,n))\n",
    "    if regularize:\n",
    "        M += 1\n",
    "        \n",
    "    for k in char_bigram_counts.keys():\n",
    "        M[c_i_map[k[0]]][c_i_map[k[1]]] = char_bigram_counts[k]\n",
    "\n",
    "    # Replace any zero rows (i.e. characters that appear exactly once at the end of a corpus) with a uniform distribution\n",
    "    zero_rows = np.where(M.sum(axis=1) == 0.)\n",
    "    M[zero_rows,:] = 1\n",
    "    row_sums = M.sum(axis=1)\n",
    "    P = M / row_sums[:,np.newaxis]\n",
    "\n",
    "    print('{0} uniform row(s) inputed for characters {1}'.format(zero_rows[0].size, \n",
    "                                                                [i_c_map[z] for z in zero_rows[0]]))\n",
    "\n",
    "    return {'char_bigram_counts': char_bigram_counts,\n",
    "            'char_unigram_counts': char_unigram_counts,\n",
    "            'bigram_freq_matrix': M,\n",
    "            'transition_matrix': P,\n",
    "            'character_index_map': c_i_map,\n",
    "            'index_character_map': i_c_map}"
   ]
  },
  {
   "cell_type": "code",
   "execution_count": 4,
   "metadata": {
    "collapsed": true
   },
   "outputs": [],
   "source": [
    "def plausibility(f,char_index_map,cipher,transition_mtx,blacklist={},print_output=False):\n",
    "    n = len(cipher)\n",
    "    probs = np.zeros(n-1)\n",
    "    q = len(transition_mtx)\n",
    "    k = []\n",
    "    v = []\n",
    "    \n",
    "    for i,j in f.items():\n",
    "        k += [i]\n",
    "        v += [j]\n",
    "        \n",
    "    dec = decrypt(cipher,\"\".join(v),\"\".join(k),blacklist)['plaintext']\n",
    "    for i in range(n-1):\n",
    "        \n",
    "        # If bigram contains a character not part of the encryption, assign it a uniform transition prob\n",
    "        if dec[i] in blacklist or dec[i+1] in blacklist:    \n",
    "            probs[i] = 1/q\n",
    "        else:\n",
    "            probs[i] = transition_mtx[c_i_map[dec[i]]][c_i_map[dec[i+1]]]\n",
    "            \n",
    "        # Ensures numerical stability\n",
    "        probs_sorted = np.sort(probs,kind='quicksort')\n",
    "\n",
    "    return {\"score\":np.sum(np.log(np.array(probs))),\"attempt\":dec} "
   ]
  },
  {
   "cell_type": "code",
   "execution_count": 5,
   "metadata": {
    "collapsed": true
   },
   "outputs": [],
   "source": [
    "def solve_mcmc(ciphertext,usual_alphabet,code_space,trans_mtx,char_index_mapping,iters=2500,skip_chars={}):\n",
    "\n",
    "    # Initialize with a random mapping\n",
    "    f = dict(zip(list(code_space),list(usual_alphabet)))\n",
    "    \n",
    "    scores = [0.0]*iters\n",
    "    mappings = []\n",
    "    accepted = 0\n",
    "    for i in range(0,iters):\n",
    "\n",
    "        mappings += [f]\n",
    "\n",
    "        # Create proposal from f by random transposition of 2 letters\n",
    "        r1, r2 = np.random.choice(list(code_space),2,replace=True)\n",
    "        f_proposal = f.copy()\n",
    "        f_proposal[r1] = f[r2]\n",
    "        f_proposal[r2] = f[r1]\n",
    "\n",
    "        # Decrypt using the current and proposed mapping\n",
    "        current = plausibility(f,char_index_mapping,ciphertext,trans_mtx,blacklist=skip_chars)\n",
    "        f_prob = current['score']\n",
    "        \n",
    "        # Print out progress\n",
    "        if i % 500 == 0: \n",
    "            print(\"iter:\", i,current['attempt'][:100])\n",
    "\n",
    "        f_proposal_prob = plausibility(f_proposal,char_index_mapping,ciphertext,trans_mtx,blacklist=skip_chars)['score']\n",
    "\n",
    "        # Decide to accept new proposal\n",
    "        u = random.uniform(0,1)\n",
    "        if f_proposal_prob > f_prob:\n",
    "            f = f_proposal.copy()\n",
    "            scores[i] = f_proposal_prob\n",
    "            accepted += 1\n",
    "        elif u < np.exp(f_proposal_prob - f_prob):\n",
    "            f = f_proposal.copy()\n",
    "            scores[i] = f_proposal_prob\n",
    "            accepted += 1\n",
    "        scores[i] = f_prob\n",
    "\n",
    "    print(\"total acceptances: \", accepted)\n",
    "\n",
    "    # Save best mapping \n",
    "    best_f = mappings[np.argmax(scores)]\n",
    "    best_score = max(scores)\n",
    "    plains = []\n",
    "    ciphers = []\n",
    "\n",
    "    for k in sorted(best_f.keys()):\n",
    "        ciphers += [k]\n",
    "        plains += [best_f[k]]\n",
    "    \n",
    "    best_key = (\"\".join(plains),\"\".join(ciphers))\n",
    "    best_attempt = decrypt(ciphertext,best_key[0],best_key[1],blacklist=skip_chars)['plaintext']\n",
    "    \n",
    "    print(\"score:\",best_score)\n",
    "    return {'num_iters':iters,\n",
    "            'plaintext':best_attempt,\n",
    "            'best_score':best_score,\n",
    "            'best_key':best_f,\n",
    "            'scores':scores,\n",
    "            'total_acceptances': accepted\n",
    "            }"
   ]
  },
  {
   "cell_type": "code",
   "execution_count": 6,
   "metadata": {
    "collapsed": true
   },
   "outputs": [],
   "source": [
    "# Accuracy score\n",
    "def similarity(s1,s2):\n",
    "    assert len(s1) == len(s2), \"Both strings must be same length\"\n",
    "    n = len(s1)\n",
    "    num_matches = sum([1 if a == b else 0 for a,b in zip(s1,s2)])\n",
    "    return num_matches/n    "
   ]
  },
  {
   "cell_type": "code",
   "execution_count": 7,
   "metadata": {
    "collapsed": false
   },
   "outputs": [
    {
     "name": "stdout",
     "output_type": "stream",
     "text": [
      "{'cipher_alphabet': 'U EOYAHPLNGFMISDQVJZRWTXCBK', 'plaintext_alphabet': 'ABCDEFGHIJKLMNOPQRSTUVWXYZ ', 'ciphertext': 'YIZYVKPUMFYZKZSK YKSVKISZKZSK YKZPUZKLJKZPYKQRYJZLSIKTPYZPYVKZLJKIS FYVKLIKZPYKMLIOKZSKJRAAYVKZPYKJFLIHJKUIOKUVVSTJKSAKSRZVUHYSRJKASVZRIYKSVKZSKZUGYKUVMJKUHULIJZKUKJYUKSAKZVSR FYJKUIOK CKSDDSJLIHKYIO'}\n",
      "{'cipher_alphabet': 'U EOYAHPLNGFMISDQVJZRWTXCBK', 'plaintext': 'ENTER HAMLET TO BE OR NOT TO BE THAT IS THE QUESTION WHETHER TIS NOBLER IN THE MIND TO SUFFER THE SLINGS AND ARROWS OF OUTRAGEOUS FORTUNE OR TO TAKE ARMS AGAINST A SEA OF TROUBLES AND BY OPPOSING END', 'plaintext_alphabet': 'ABCDEFGHIJKLMNOPQRSTUVWXYZ '}\n",
      "('ABCDEFGHIJKLMNOPQRSTUVWXYZ ', 'U EOYAHPLNGFMISDQVJZRWTXCBK')\n",
      "5000 lines read.\n",
      "10000 lines read.\n",
      "15000 lines read.\n",
      "20000 lines read.\n",
      "25000 lines read.\n",
      "30000 lines read.\n",
      "35000 lines read.\n",
      "40000 lines read.\n",
      "45000 lines read.\n",
      "50000 lines read.\n",
      "55000 lines read.\n",
      "60000 lines read.\n",
      "65000 lines read.\n",
      "0 uniform row(s) inputed for characters []\n"
     ]
    }
   ],
   "source": [
    "\n",
    "test_pattern = '[^A-Z ]'\n",
    "pattern = re.compile(test_pattern)\n",
    "message = \"ENTER HAMLET TO BE OR NOT TO BE THAT IS THE QUESTION WHETHER TIS NOBLER IN THE MIND TO SUFFER THE SLINGS AND ARROWS OF OUTRAGEOUS FORTUNE OR TO TAKE ARMS AGAINST A SEA OF TROUBLES AND BY OPPOSING END\"\n",
    "message_cleaned = pattern.sub('',message.upper())\n",
    "\n",
    "# Generate random code space\n",
    "en_alphabet = \"ABCDEFGHIJKLMNOPQRSTUVWXYZ \"\n",
    "tmp = list(en_alphabet)\n",
    "random.shuffle(tmp)\n",
    "cipher_alphabet = \"\".join(tmp)\n",
    "\n",
    "# Display the true key\n",
    "message_enc = encrypt(message_cleaned,en_alphabet,cipher_alphabet,\n",
    "#                      blacklist={' ',}\n",
    "                    )\n",
    "ciphertext = message_enc['ciphertext']\n",
    "print(message_enc)\n",
    "print(decrypt(message_enc['ciphertext'],en_alphabet, cipher_alphabet,\n",
    "#               blacklist={' ',}\n",
    "             ))\n",
    "print((en_alphabet,cipher_alphabet))\n",
    "\n",
    "# Compute english bigram frequencies from a reference text\n",
    "results = process_text('war-and-peace.txt',regex_ignore=test_pattern)\n",
    "P = results['transition_matrix']\n",
    "F = results['bigram_freq_matrix']\n",
    "m = P.shape[0]\n",
    "i_c_map = results['index_character_map']\n",
    "c_i_map = results['character_index_map']"
   ]
  },
  {
   "cell_type": "code",
   "execution_count": 8,
   "metadata": {
    "collapsed": false
   },
   "outputs": [
    {
     "data": {
      "text/plain": [
       "<matplotlib.text.Text at 0x273d368aba8>"
      ]
     },
     "execution_count": 8,
     "metadata": {},
     "output_type": "execute_result"
    },
    {
     "data": {
      "image/png": "[encoded data removed]",
      "text/plain": [
       "<matplotlib.figure.Figure at 0x273d35c4208>"
      ]
     },
     "metadata": {},
     "output_type": "display_data"
    }
   ],
   "source": [
    "# Plot example of  transition matrix\n",
    "names = []\n",
    "for k in sorted(list(i_c_map.keys())):\n",
    "    names += [i_c_map[k]]\n",
    "    \n",
    "plt.figure(figsize=(10,10))\n",
    "sns.heatmap(P,xticklabels=names,yticklabels=names)\n",
    "plt.title(\"Character Transition Matrix (War and Peace)\")"
   ]
  },
  {
   "cell_type": "code",
   "execution_count": 15,
   "metadata": {
    "collapsed": false,
    "scrolled": false
   },
   "outputs": [
    {
     "name": "stdout",
     "output_type": "stream",
     "text": [
      "ciphertext:\n",
      "YIZYVKPUMFYZKZSK YKSVKISZKZSK YKZPUZKLJKZPYKQRYJZLSIKTPYZPYVKZLJKIS FYVKLIKZPYKMLIOKZSKJRAAYVKZPYKJFLIHJKUIOKUVVSTJKSAKSRZVUHYSRJKASVZRIYKSVKZSKZUGYKUVMJKUHULIJZKUKJYUKSAKZVSR FYJKUIOK CKSDDSJLIHKYIO\n",
      "\n",
      "iter: 0  QE ISDYAK ESEOSH SOISQOESEOSH SEDYESZRSED SXT REZOQSBD ED ISEZRSQOHK ISZQSED SAZQGSEOSRTFF ISED SRK\n",
      "iter: 500 EISET HAPUES SO ME OT IOS SO ME SHAS LN SHE RKENSLOI WHESHET SLN IOMUET LI SHE PLID SO NKFFET SHE NU\n",
      "iter: 1000 EISET HABYES SO ME OT IOS SO ME SHAS LD SHE QUEDSLOI WHESHET SLD IOMYET LI SHE BLIG SO DURRET SHE DY\n",
      "iter: 1500 EITER HABYET TO ME OR IOT TO ME THAT LD THE FUEDTLOI WHETHER TLD IOMYER LI THE BLIG TO DUSSER THE DY\n",
      "iter: 2000 ELTER HAPBET TO ME OR LOT TO ME THAT IS THE JUESTIOL WHETHER TIS LOMBER IL THE PILD TO SUGGER THE SB\n",
      "iter: 2500 ENTER HAKBET TO ME OR NOT TO ME THAT IS THE CUESTION WHETHER TIS NOMBER IN THE KINY TO SULLER THE SB\n",
      "iter: 3000 ENTER HAYBET TO ME OR NOT TO ME THAT IS THE CUESTION WHETHER TIS NOMBER IN THE YING TO SULLER THE SB\n",
      "iter: 3500 ENTER HAYBET TO ME OR NOT TO ME THAT IS THE JUESTION WHETHER TIS NOMBER IN THE YIND TO SULLER THE SB\n",
      "iter: 4000 ENTER HAYPET TO ME OR NOT TO ME THAT IS THE QUESTION WHETHER TIS NOMPER IN THE YING TO SULLER THE SP\n",
      "iter: 4500 ENTER HAKBET TO ME OR NOT TO ME THAT IS THE JUESTION WHETHER TIS NOMBER IN THE KING TO SUFFER THE SB\n",
      "total acceptances:  492\n",
      "score: -449.606462901\n",
      "\n",
      "attempted decryption:\n",
      "ENTER HAKPET TO ME OR NOT TO ME THAT IS THE BUESTION WHETHER TIS NOMPER IN THE KIND TO SUFFER THE SPINGS AND ARROWS OF OUTRAGEOUS FORTUNE OR TO TAVE ARKS AGAINST A SEA OF TROUMPES AND MY OLLOSING END\n",
      "\n",
      "original message:\n",
      "ENTER HAMLET TO BE OR NOT TO BE THAT IS THE QUESTION WHETHER TIS NOBLER IN THE MIND TO SUFFER THE SLINGS AND ARROWS OF OUTRAGEOUS FORTUNE OR TO TAKE ARMS AGAINST A SEA OF TROUBLES AND BY OPPOSING END\n",
      "\n",
      "score of true key: -449.00139556\n",
      "similarity score: 0.9195979899497487\n"
     ]
    }
   ],
   "source": [
    "init = list(en_alphabet).copy()\n",
    "random.shuffle(init)\n",
    "print(\"ciphertext:\")\n",
    "print(ciphertext)\n",
    "\n",
    "print()\n",
    "soln = solve_mcmc(ciphertext,en_alphabet,init,P,c_i_map,iters=5000)\n",
    "print()\n",
    "\n",
    "print(\"attempted decryption:\")\n",
    "print(soln['plaintext'])\n",
    "\n",
    "# Compare against original message\n",
    "print()\n",
    "print(\"original message:\")\n",
    "print(message_cleaned)\n",
    "ground_truth_score = plausibility(dict(zip(cipher_alphabet,en_alphabet)),c_i_map,ciphertext,P)\n",
    "\n",
    "print()\n",
    "print('score of true key:', ground_truth_score['score'])\n",
    "print('similarity score:', similarity(message_cleaned, soln['plaintext']))"
   ]
  },
  {
   "cell_type": "code",
   "execution_count": 14,
   "metadata": {
    "collapsed": false
   },
   "outputs": [
    {
     "data": {
      "image/png": "[encoded data removed]",
      "text/plain": [
       "<matplotlib.figure.Figure at 0x273d39ddd68>"
      ]
     },
     "metadata": {},
     "output_type": "display_data"
    }
   ],
   "source": [
    "plt.plot(soln['scores'])\n",
    "plt.title('score function')\n",
    "plt.show()  "
   ]
  },
  {
   "cell_type": "code",
   "execution_count": 346,
   "metadata": {
    "collapsed": false
   },
   "outputs": [],
   "source": [
    "# Try a longer message (some boring prose) and different alphabet\n",
    "message2 = \"\"\"For seamless hose the tube is made in a tubing machine and slipped upon the hose pole by reversing the process that is used in removing hose by air compression. In other words, a knot is tied in one end of the fifty foot tube and the other end is placed against the hose pole and being carefully inflated with air it is slipped on without the least trouble. For various kinds of hose the processes vary, and there are machines for winding with wire and intricate processes for the heavy grades of suction hose, etc.\"\"\"\n",
    "message_cleaned2 = pattern.sub('',message2.upper())\n",
    "cipher_alphabet2 = \",./;[]-=!@#$%^&*()<>?:{}|~A\"\n",
    "\n",
    "# Display the true key\n",
    "message_enc2 = encrypt(message_cleaned2,en_alphabet,cipher_alphabet2,\n",
    "                    )\n",
    "ciphertext2 = message_enc2['ciphertext']"
   ]
  },
  {
   "cell_type": "code",
   "execution_count": 347,
   "metadata": {
    "collapsed": false
   },
   "outputs": [
    {
     "name": "stdout",
     "output_type": "stream",
     "text": [
      "ciphertext:\n",
      "]&)A<[,%$[<<A=&<[A>=[A>?.[A!<A%,;[A!^A,A>?.!^-A%,/=!^[A,^;A<$!**[;A?*&^A>=[A=&<[A*&$[A.|A)[:[)<!^-A>=[A*)&/[<<A>=,>A!<A?<[;A!^A)[%&:!^-A=&<[A.|A,!)A/&%*)[<<!&^A!^A&>=[)A{&);<A,A#^&>A!<A>![;A!^A&^[A[^;A&]A>=[A]!]>|A]&&>A>?.[A,^;A>=[A&>=[)A[^;A!<A*$,/[;A,-,!^<>A>=[A=&<[A*&$[A,^;A.[!^-A/,)[]?$$|A!^]$,>[;A{!>=A,!)A!>A!<A<$!**[;A&^A{!>=&?>A>=[A$[,<>A>)&?.$[A]&)A:,)!&?<A#!^;<A&]A=&<[A>=[A*)&/[<<[<A:,)|A,^;A>=[)[A,)[A%,/=!^[<A]&)A{!^;!^-A{!>=A{!)[A,^;A!^>)!/,>[A*)&/[<<[<A]&)A>=[A=[,:|A-),;[<A&]A<?/>!&^A=&<[A[>/\n",
      "\n",
      "iter: 0 QKPUHFIJVFHHUTKHFUGTFUGMAFUWHUJIXFUWNUIUGMAWNEUJIZTWNFUINXUHVWSSFXUMSKNUGTFUTKHFUSKVFUABUPFCFPHWNEUG\n",
      "iter: 500 TOR SEIWLESS HOSE PHE PMBE AS WIDE AN I PMBANG WIFHANE IND SLAUUED MUON PHE HOSE UOLE BY REZERSANG P\n",
      "iter: 1000 PAR SEOMLESS HASE THE TUZE IS MODE IN O TUZING MOCHINE OND SLIFFED UFAN THE HASE FALE ZY REBERSING T\n",
      "iter: 1500 FOR SEAMLESS HOSE THE TUZE IS MADE IN A TUZING MACHINE AND SLIPPED UPON THE HOSE POLE ZY REBERSING T\n",
      "iter: 2000 FOR SEAMLESS HOSE THE TUBE IS MADE IN A TUBING MACHINE AND SLIPPED UPON THE HOSE POLE BY REXERSING T\n",
      "iter: 2500 FOR SEAMLESS HOSE THE TUBE IS MADE IN A TUBING MACHINE AND SLIPPED UPON THE HOSE POLE BY REVERSING T\n",
      "iter: 3000 FOR SEAMLESS HOSE THE TUBE IS MADE IN A TUBING MACHINE AND SLIPPED UPON THE HOSE POLE BY REVERSING T\n",
      "iter: 3500 FOR SEAMLESS HOSE THE TUBE IS MADE IN A TUBING MACHINE AND SLIPPED UPON THE HOSE POLE BY REVERSING T\n",
      "iter: 4000 FOR SEAMLESS HOSE THE TUBE IS MADE IN A TUBING MACHINE AND SLIPPED UPON THE HOSE POLE BY REVERSING T\n",
      "iter: 4500 FOR SEAMLESS HOSE THE TUBE IS MADE IN A TUBING MACHINE AND SLIPPED UPON THE HOSE POLE BY REVERSING T\n",
      "total acceptances:  352\n",
      "score: -1126.75318758\n",
      "\n",
      "attempted decryption:\n",
      "FOR SEAMLESS HOSE THE TUBE IS MADE IN A TUBING MACHINE AND SLIPPED UPON THE HOSE POLE BY REVERSING THE PROCESS THAT IS USED IN REMOVING HOSE BY AIR COMPRESSION IN OTHER WORDS A KNOT IS TIED IN ONE END OF THE FIFTY FOOT TUBE AND THE OTHER END IS PLACED AGAINST THE HOSE POLE AND BEING CAREFULLY INFLATED WITH AIR IT IS SLIPPED ON WITHOUT THE LEAST TROUBLE FOR VARIOUS KINDS OF HOSE THE PROCESSES VARY AND THERE ARE MACHINES FOR WINDING WITH WIRE AND INTRICATE PROCESSES FOR THE HEAVY GRADES OF SUCTION HOSE ETC\n",
      "\n",
      "original message:\n",
      "FOR SEAMLESS HOSE THE TUBE IS MADE IN A TUBING MACHINE AND SLIPPED UPON THE HOSE POLE BY REVERSING THE PROCESS THAT IS USED IN REMOVING HOSE BY AIR COMPRESSION IN OTHER WORDS A KNOT IS TIED IN ONE END OF THE FIFTY FOOT TUBE AND THE OTHER END IS PLACED AGAINST THE HOSE POLE AND BEING CAREFULLY INFLATED WITH AIR IT IS SLIPPED ON WITHOUT THE LEAST TROUBLE FOR VARIOUS KINDS OF HOSE THE PROCESSES VARY AND THERE ARE MACHINES FOR WINDING WITH WIRE AND INTRICATE PROCESSES FOR THE HEAVY GRADES OF SUCTION HOSE ETC\n",
      "\n",
      "score of true key: -1126.75318758\n",
      "similarity score: 1.0\n"
     ]
    }
   ],
   "source": [
    "init2 = list(cipher_alphabet2).copy()\n",
    "random.shuffle(init2)\n",
    "print(\"ciphertext:\")\n",
    "print(ciphertext2)\n",
    "\n",
    "print()\n",
    "soln2 = solve_mcmc(ciphertext2,en_alphabet,init2,P,c_i_map,iters=5000)\n",
    "print()\n",
    "\n",
    "print(\"attempted decryption:\")\n",
    "print(soln2['plaintext'])\n",
    "\n",
    "# Compare against original message\n",
    "print()\n",
    "print(\"original message:\")\n",
    "print(message_cleaned2)\n",
    "ground_truth_score2 = plausibility(dict(zip(cipher_alphabet2,en_alphabet)),c_i_map,ciphertext2,P)\n",
    "\n",
    "print()\n",
    "print('score of true key:', ground_truth_score2['score'])\n",
    "print('similarity score:', similarity(message_cleaned2, soln2['plaintext']))"
   ]
  },
  {
   "cell_type": "code",
   "execution_count": 348,
   "metadata": {
    "collapsed": false
   },
   "outputs": [],
   "source": [
    "# TODO: fix process_text to create uniform rows and debug cryptogram case (fixed word spacing)\n",
    "# TODO: improve clarity of blacklist system\n",
    "# TODO: add doc strings for functions\n",
    "\n",
    "#   \"\"\"\n",
    "#     \n",
    "#     Reads in text from a file and returns a dict containing 3 objects. \n",
    "\n",
    "#     The Counter \"char_bigram_counts\" stores the number of character pairs.\n",
    "#     The Counter \"char_unigram_counts\" gives the total count of each character in the text. \n",
    "#     The numpy array \"transition_mtx\" gives the first-order transition probabilities between two characters (i,j) where i and j are indices.\n",
    "#     The \"character_index_map\" and \"index_character_map\" Dict objects specify a bijection between characters and indices of the matrix. \n",
    "\n",
    "#     regex_ignore used to pick what characters to include when building the matrix. For example, can only keep alphnumeric characters\n",
    "#     if regex_ignore='[\\W_]+'\n",
    "#     \"\"\"\n",
    "\n",
    "# more test cases (cryptograms)\n",
    "# # ciphertext = \"\"\"CKYL VQQ KSB ZQYZOC, ZIK YDD KSB KBQBLSYAB, LHBRBAK KSB WYM DHYG XVHOEAM FEKS V UIEZT XYAB, CEQBAZB KSB LEVAYC VAW FEKS GIDDQBW WHIG XHEAM YIK KSB ZYDDEA, QBK KSB GYIHABHC ZYGB. \"\"\"\n",
    "# ciphertext = \"\"\"CKYL VQQ KSB ZQYZOC ZIK YDD KSB KBQBLSYAB LHBRBAK KSB WYM DHYG XVHOEAM FEKS V UIEZT XYAB CEQBAZB KSB LEVAYC VAW FEKS GIDDQBW WHIG XHEAM YIK KSB ZYDDEA QBK KSB GYIHABHC ZYGB\"\"\""
   ]
  }
 ],
 "metadata": {
  "anaconda-cloud": {},
  "kernelspec": {
   "display_name": "Python [conda env:Anaconda3]",
   "language": "python",
   "name": "conda-env-Anaconda3-py"
  },
  "language_info": {
   "codemirror_mode": {
    "name": "ipython",
    "version": 3
   },
   "file_extension": ".py",
   "mimetype": "text/x-python",
   "name": "python",
   "nbconvert_exporter": "python",
   "pygments_lexer": "ipython3",
   "version": "3.5.2"
  }
 },
 "nbformat": 4,
 "nbformat_minor": 1
}
